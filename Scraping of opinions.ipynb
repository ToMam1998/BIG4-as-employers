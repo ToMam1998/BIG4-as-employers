{
 "cells": [
  {
   "cell_type": "markdown",
   "metadata": {},
   "source": [
    "# GoWork opinions"
   ]
  },
  {
   "cell_type": "code",
   "execution_count": 1,
   "metadata": {},
   "outputs": [],
   "source": [
    "import requests\n",
    "from bs4 import BeautifulSoup\n",
    "import re\n",
    "import csv"
   ]
  },
  {
   "cell_type": "code",
   "execution_count": 2,
   "metadata": {},
   "outputs": [],
   "source": [
    "sourceURL = 'https://www.gowork.pl/opinie_czytaj,76776' # this is url for the first page of opinions for PwC\n",
    "keys = ['Opinion', 'Timestamp'] # these will be our columns' names"
   ]
  },
  {
   "cell_type": "code",
   "execution_count": 3,
   "metadata": {},
   "outputs": [],
   "source": [
    "def read_url(url):\n",
    "    response = requests.get(url)\n",
    "    return response.text"
   ]
  },
  {
   "cell_type": "markdown",
   "metadata": {},
   "source": [
    "### Let's try it first for PwC to get insights into website's structure."
   ]
  },
  {
   "cell_type": "code",
   "execution_count": 26,
   "metadata": {},
   "outputs": [
    {
     "data": {
      "text/plain": [
       "'    <!DOCTYPE html><html lang=\"pl\" prefix=\"og: http://ogp.me/ns# fb: http://ogp.me/ns/fb#\"><head data-loggedin=\"0\"><title>        Opinie PwC Polska Warszawa\\n     - GoWork.pl</title><meta charset=\"utf-8\" /><meta http-equiv=\"X-UA-Compatible\" content=\"IE=edge\" /><meta name=\"viewport\" content=\"width=device-width, initial-scale=1, shrink-to-fit=no\" /><meta http-equiv=\"Content-Language\" content=\"pl\" /><meta name=\"keywords\" property=\"keywords\" content=\"opinie o PwC Polska Warszawa, zarobki PwC Polska W'"
      ]
     },
     "execution_count": 26,
     "metadata": {},
     "output_type": "execute_result"
    }
   ],
   "source": [
    "read_url(sourceURL)[:500] # this makes a request and gets text from the page"
   ]
  },
  {
   "cell_type": "code",
   "execution_count": 5,
   "metadata": {},
   "outputs": [],
   "source": [
    "response = read_url(sourceURL)\n",
    "soup = BeautifulSoup(markup=response, features='lxml')"
   ]
  },
  {
   "cell_type": "code",
   "execution_count": 7,
   "metadata": {},
   "outputs": [],
   "source": [
    "opinions = soup.find_all('div', \"js-thread thread-item clearfix\") # finds all div tags with class given by the second argument"
   ]
  },
  {
   "cell_type": "code",
   "execution_count": 9,
   "metadata": {},
   "outputs": [
    {
     "data": {
      "text/plain": [
       "<p class=\"js-review-text review__text review-content-0589defe-5385-4ba7-8d58-3fae4a47e6ce\">Mamy połowę 2021 roku natomiast pensje w FCU stoją dalej w miejscu. Inflacja w Polsce na poziomie 5% (i być może jeszcze wzrośnie), wszystko drożeje w niebotycznym tempie. Tak naprawdę zarobki bez zmian od kilku lat. Wielokrotnie temat był poruszany podczas streamów z leaderami, jednak dalej bez echa. Pensja, która była w miarę ok w 2017 roku dzisiaj coraz mocniej odstaje od realiów rynkowych. PwC to przecież Big4 czyli marka sama w sobie, dlatego też powinna wyznaczać pewne standardy, między innymi jeśli chodzi o podejście do własnych pracowników. Nie ulega wątpliwości, że zatrudnieni tutaj specjaliści to starannie wyselekcjonowani ludzie, pełni profesjonalizmu i ze sporą wiedzą. PwC powinno stawiać na jakość także w tym aspekcie. Te minimum 1000zł netto podwyżki dla każdego szczebla to według mnie najlepszy sposób aby okazać wdzięczność ludziom, którzy przynoszą coraz większe zyski dla firmy. Myślę, że wiele osób się ze mną zgodzi. Pokażmy ilu nas jest!</p>"
      ]
     },
     "execution_count": 9,
     "metadata": {},
     "output_type": "execute_result"
    }
   ],
   "source": [
    "opinions[0].find('p', \"js-review-text\") # we take first opinion and have to get to its text by seeking for p tag with class \n",
    "# given by the second argument, note that we used 'find' instead of 'find_all' - this returns first found p tag with given class \n",
    "# which is our opinion; subsequent p tags within this class are comments of an opinion\n",
    "\n",
    "    "
   ]
  },
  {
   "cell_type": "code",
   "execution_count": 10,
   "metadata": {},
   "outputs": [
    {
     "data": {
      "text/plain": [
       "'Mamy połowę 2021 roku natomiast pensje w FCU stoją dalej w miejscu. Inflacja w Polsce na poziomie 5% (i być może jeszcze wzrośnie), wszystko drożeje w niebotycznym tempie. Tak naprawdę zarobki bez zmian od kilku lat. Wielokrotnie temat był poruszany podczas streamów z leaderami, jednak dalej bez echa. Pensja, która była w miarę ok w 2017 roku dzisiaj coraz mocniej odstaje od realiów rynkowych. PwC to przecież Big4 czyli marka sama w sobie, dlatego też powinna wyznaczać pewne standardy, między innymi jeśli chodzi o podejście do własnych pracowników. Nie ulega wątpliwości, że zatrudnieni tutaj specjaliści to starannie wyselekcjonowani ludzie, pełni profesjonalizmu i ze sporą wiedzą. PwC powinno stawiać na jakość także w tym aspekcie. Te minimum 1000zł netto podwyżki dla każdego szczebla to według mnie najlepszy sposób aby okazać wdzięczność ludziom, którzy przynoszą coraz większe zyski dla firmy. Myślę, że wiele osób się ze mną zgodzi. Pokażmy ilu nas jest!'"
      ]
     },
     "execution_count": 10,
     "metadata": {},
     "output_type": "execute_result"
    }
   ],
   "source": [
    "opinions[0].find('p', \"js-review-text\").text # # we have to get to the opinion itself, excluding tags and here it is"
   ]
  },
  {
   "cell_type": "code",
   "execution_count": 11,
   "metadata": {},
   "outputs": [
    {
     "data": {
      "text/plain": [
       "<time class=\"review__date\" datetime=\"02.06.2021 11:39\" title=\"02.06.2021 11:39\">\n",
       "\n",
       "                02.06.2021 11:39\n",
       "            </time>"
      ]
     },
     "execution_count": 11,
     "metadata": {},
     "output_type": "execute_result"
    }
   ],
   "source": [
    "# also datetime can be useful for futher analysis, so let's get it\n",
    "\n",
    "opinions[0].find('time', 'review__date')"
   ]
  },
  {
   "cell_type": "code",
   "execution_count": 12,
   "metadata": {},
   "outputs": [
    {
     "data": {
      "text/plain": [
       "'02.06.2021 11:39'"
      ]
     },
     "execution_count": 12,
     "metadata": {},
     "output_type": "execute_result"
    }
   ],
   "source": [
    "opinions[0].find('time', 'review__date').get('datetime') # that's how we get attribute's value"
   ]
  },
  {
   "cell_type": "code",
   "execution_count": 13,
   "metadata": {},
   "outputs": [
    {
     "data": {
      "text/plain": [
       "'29.12.2020 22:16'"
      ]
     },
     "execution_count": 13,
     "metadata": {},
     "output_type": "execute_result"
    }
   ],
   "source": [
    "date = '29.12.2020 22:16'\n",
    "date"
   ]
  },
  {
   "cell_type": "code",
   "execution_count": 14,
   "metadata": {},
   "outputs": [
    {
     "data": {
      "text/plain": [
       "Timestamp('2020-12-29 22:16:00')"
      ]
     },
     "execution_count": 14,
     "metadata": {},
     "output_type": "execute_result"
    }
   ],
   "source": [
    "import pandas as pd # that's how we can make our date string a proper timestamp to pandas \n",
    "pd.to_datetime(date, format=\"%d.%m.%Y %H:%M\")"
   ]
  },
  {
   "cell_type": "markdown",
   "metadata": {},
   "source": [
    "### Now let's try our process for a couple of opinions"
   ]
  },
  {
   "cell_type": "code",
   "execution_count": 15,
   "metadata": {},
   "outputs": [
    {
     "name": "stdout",
     "output_type": "stream",
     "text": [
      "Mamy połowę 2021 roku natomiast pensje w FCU stoją dalej w miejscu. Inflacja w Polsce na poziomie 5% (i być może jeszcze wzrośnie), wszystko drożeje w niebotycznym tempie. Tak naprawdę zarobki bez zmian od kilku lat. Wielokrotnie temat był poruszany podczas streamów z leaderami, jednak dalej bez echa. Pensja, która była w miarę ok w 2017 roku dzisiaj coraz mocniej odstaje od realiów rynkowych. PwC to przecież Big4 czyli marka sama w sobie, dlatego też powinna wyznaczać pewne standardy, między innymi jeśli chodzi o podejście do własnych pracowników. Nie ulega wątpliwości, że zatrudnieni tutaj specjaliści to starannie wyselekcjonowani ludzie, pełni profesjonalizmu i ze sporą wiedzą. PwC powinno stawiać na jakość także w tym aspekcie. Te minimum 1000zł netto podwyżki dla każdego szczebla to według mnie najlepszy sposób aby okazać wdzięczność ludziom, którzy przynoszą coraz większe zyski dla firmy. Myślę, że wiele osób się ze mną zgodzi. Pokażmy ilu nas jest! 2021-06-02 11:39:00\n",
      "__________\n",
      "Pracuję w tej firmie już całkiem sporo czasu, więc mogę powiedzieć to i owo (FCU Gdańsk, duży, niemiecki projekt).\n",
      "\n",
      "Wynagrodzenie: 5/10\n",
      "Wynagrodzenie - no cóż, po prostu jest. Da się za te pieniądze wytrzymać, aczkolwiek są na rynku firmy, które pod tym względem proponują więcej. Plus, że zawsze jest na czas, minus za to, że od pensji odciągany jest podatek od nagród, co jest sporym skandalem i przerzucaniem kosztów na pracownika. Nie wspominając o braku premii świątecznej, która w dzisiejszych czasach jest normą w wielu firmach. Ogólnie całe Big4 zostało nieco w tyle za rynkiem.\n",
      "\n",
      "benefity: 6/10\n",
      "Generalnie jest ok, opieka medyczna na przyzwoitym poziomie, multisport i bony do wszelakich sklepów. Standard, w porównaniu do innych korpo w Trójmieście. Minusem jest dosyć niska pula w programie benefitowym.\n",
      "\n",
      "Atmosfera: 7/10\n",
      "Jedna z mocniejszych stron, ale pewnie też ocena mocno subiektywna, wiele zależy od zespołu do jakiego się trafi. Ja akurat trafiłem na fajną ekipę, ze świetnym team leaderem. Ogółem większość osób w firmie jest pomocna, uprzejma (poza paroma wyjątkami które z grzeczności przemilczę). Nie ma wielkiej presji, jest współpraca itp.\n",
      "\n",
      "Sprzęt i warunki pracy : 8/10 (sprzęt) 4/10 (warunki pracy)\n",
      "Kolejna mocna strona. Nowoczesny sprzęt, pełen support ze strony IT, dzięki czemu nie ma żadnych problemów pracując na Home Office z dowolnego miejsca. Praca w biurze też była ok, nowoczesny biurowiec, dobrze wyposażony, jedynie drobne mankamenty. Dużo gorzej jest w przypadku pracy stricte projektowej - niech ktoś w końcu zainterweniuje u klienta, aby zwiększono analitykom pamięć na środowisku, bowiem nawet przy znakomitym łączu momentami praca staje się wręcz niemożliwa albo bardzo powolna, co z pewnością ma wpływ na wyniki (nie wspominając o dużej awaryjności systemów).\n",
      "\n",
      "Warunki rozwoju i awansu: 3/10\n",
      "3 punkty tylko dlatego, że można zdobyć co nieco wiedzy na temat AML oraz podszkolić się z języka. Niestety, większość informacji przyswajanych na tylko zastosowanie w danym projekcie, przez co osoby przechodzące z innych projektów muszą wielu rzeczy uczyć się zupełnie od nowa. Nie wspominając o nieustannie zmieniających się procedurach, klaryfikacjach i innych niezgodnościach, kiedy to nawet QC czy SME nie do końca wiedzą jak dany problem interpretować - a zmiany są notoryczne, dlatego nietrudno o mętlik i chaos. Duży minus za system awansów. Nie wystarczy dobry performance, dobra \"produkcja\" (to określenie to chyba wymyślił jakiś \"geniusz\" z HR albo pseudo-manager) oraz zdanie certyfikacji - liczy się (chyba przede wszystkim) dobry feedback, zwłaszcza od osób wzwyż. O tym, czy awansujesz decyduje manager, którego mogłeś w życiu na oczy nie widzieć ani nie mieć z nim ani jednego calla w formie 121. PwC stawia mocno na tzw. kulturę feedbacku - w praktyce sprowadza się to do sytuacji, kiedy wielu ludzi daje sobie feedbacki 5/5 licząc na dokładnie to samo w zamian. Dlatego uważam, że całą tę kulturę należy wywalić do kosza, albo przynajmniej zmienić jej formę - na anonimową, bez ocen liczbowych, z jedynie marginalnym wpływem na ocenę roczną.\n",
      "Inna sprawa - nawet mając znakomity feedback, do awansu może ci zabraknąć jednej, jedynej rzeczy - pracy na projekcie w formie Quality Checkera. Tyle, że takowym zostajesz dopiero po jakimś czasie osiągania znakomitych wyników jakości - w praktyce oznacza to, że na awans pracujesz nie jeden rok, a dwa lata (rok jako analityk, drugi rok jako QC).\n",
      "\n",
      "Godziny pracy: 7/10\n",
      "Nie miałbym tutaj w zasadzie żadnych zastrzeżeń, gdyż są godziny stosunkowo elastyczne, łatwo o korekty w grafiku, nadgodziny zarówno w formie odbioru jak i dodatkowej kasy są możliwe. Dużym minusem jest tzw. 30-minutowa przerwa na lunch, czyli w praktyce 8,5-godzinny dzień pracy. Ok, inne Big4 mają ten czas wydłużony do 60 minut, co już jest totalnym skandalem, ale nawet tutaj - przypomnę, że 15 minut przerwy na 8 godzin pracy gwarantuje Kodeks Pracy + 5 minut dodatkowe na każde 60 minut pracy przy komputerze, czyli razem 55 minut przy 8 godzinnym dniu pracy. Home Office nie ma tutaj żadnego znaczenia.\n",
      "\n",
      "Ogółem nie jest źle, ale do zachwytów dosyć daleko. Firma dobra na zdobycie wiedzy i doświadczenia. Potem lepiej ruszyć dalej. Pozdrawiam. 2020-12-29 22:16:00\n",
      "__________\n",
      "Głoszone na „prawo i lewo” wartości PWC to jakaś kpina i mydlenie ludziom oczu. \n",
      "To organizacja, w której nie ma miejsca na żadne „diversity”. Kiedy mówisz głośno o swoich (innych niż obecnie) celach zawodowych w długim okresie, potrafią z dnia na dzień Cię wyrzucić, bez podania powodu, bo miałeś odwagę powiedzieć głośno, ze coś Ci się nie podoba. \n",
      "W audycie praca w chorej liczbie nadgodzin oraz konieczna praca w weekendy, bo ilość zadań do wykonania nie do porównania z ilością czasu z bookingu. Oczywiście lepiej nie wpisywać nigdzie, ze siedziałeś dłużej, niż projekt tego wymaga, ponieważ kierownictwu nie będzie zamykał się budżet. W związku z tym jedenastą czy dwunastą godzinę siedzisz już w ciągu dnia za darmo i tak przez kilka miesięcy w każdym roku, co mocno odbija się na zdrowiu psychicznym. \n",
      "Podsumowując, przerażona faktem utraty pracy, obecnie uważam, ze nic lepszego nie mogło mi się przytrafić. Ciężar psychiczny, który ta sytuacja zdjęła z moich barków, był ogromny. \n",
      "Radzę każdemu 10 razy dobrze się zastanowić, zanim zadecyduje o rozpoczęciu tu pracy. Za te same pieniądze można zajmować stanowisko, któremu nie poświęca się zdrowia, prywatnego czasu i relacji z bliskimi. 2021-03-20 11:44:00\n",
      "__________\n",
      "Pracuje w PwC 2 lata i uważam że jest to w porządku miejsce pracy. Zarobki jak na 3miasto bardzo fajne, mnóstwo dodatków. Bardzo fajni ludzie, możliwość wyrażenia swojego zdania. Z minusów: obowiązkowa pół godzinną przerwa, która trzeba odrobić (czyli 8,5h w pracy), słabe możliwości rozwoju ( niby są szkolenia, Akademię, ale przy takiej ilości ludzi ciężko się wybić) 2021-06-28 23:05:00\n",
      "__________\n",
      "nareszcie, dzis byla info o podwyzkach i bonusach wiec nie ma co narzekac. niektore firmy musialy zwolnic pracownikow przez covid i zatrzymaly wszystkie dodatki, tu z opiznieniem ale zawsze dobra wiadomosc na koniec roku, polecam 2020-10-23 10:11:00\n",
      "__________\n"
     ]
    }
   ],
   "source": [
    "for opinion in opinions[:5]:\n",
    "    contents = opinion.find('p', 'js-review-text').text\n",
    "    date = opinion.find('time', 'review__date').get('datetime')\n",
    "    timestamp = pd.to_datetime(date, format=\"%d.%m.%Y %H:%M\")\n",
    "    print(contents, timestamp)\n",
    "    print('__________')"
   ]
  },
  {
   "cell_type": "markdown",
   "metadata": {},
   "source": [
    "### Now let's make trial csv file that will store our opinions from the first page for PWC."
   ]
  },
  {
   "cell_type": "code",
   "execution_count": 83,
   "metadata": {},
   "outputs": [],
   "source": [
    "file = open('opinions.csv', mode='w', newline='', encoding = 'utf-8')"
   ]
  },
  {
   "cell_type": "code",
   "execution_count": 84,
   "metadata": {},
   "outputs": [
    {
     "data": {
      "text/plain": [
       "<_csv.writer at 0x231636b9528>"
      ]
     },
     "execution_count": 84,
     "metadata": {},
     "output_type": "execute_result"
    }
   ],
   "source": [
    "writer = csv.writer(file)\n",
    "writer # we instantiate csv writer"
   ]
  },
  {
   "cell_type": "code",
   "execution_count": 85,
   "metadata": {},
   "outputs": [],
   "source": [
    "writer.writerow(keys) # columns' names are written \n",
    "\n",
    "for opinion in opinions:\n",
    "    contents = opinion.find('p', 'js-review-text').text\n",
    "    date = opinion.find('time', 'review__date').get('datetime')\n",
    "    timestamp = pd.to_datetime(date, format=\"%d.%m.%Y %H:%M\")\n",
    "    writer.writerow([contents, timestamp])\n",
    "file.close()"
   ]
  },
  {
   "cell_type": "code",
   "execution_count": 86,
   "metadata": {},
   "outputs": [
    {
     "data": {
      "text/html": [
       "<div>\n",
       "<style scoped>\n",
       "    .dataframe tbody tr th:only-of-type {\n",
       "        vertical-align: middle;\n",
       "    }\n",
       "\n",
       "    .dataframe tbody tr th {\n",
       "        vertical-align: top;\n",
       "    }\n",
       "\n",
       "    .dataframe thead th {\n",
       "        text-align: right;\n",
       "    }\n",
       "</style>\n",
       "<table border=\"1\" class=\"dataframe\">\n",
       "  <thead>\n",
       "    <tr style=\"text-align: right;\">\n",
       "      <th></th>\n",
       "      <th>Opinion</th>\n",
       "      <th>Timestamp</th>\n",
       "    </tr>\n",
       "  </thead>\n",
       "  <tbody>\n",
       "    <tr>\n",
       "      <th>0</th>\n",
       "      <td>Pracuję w tej firmie już całkiem sporo czasu, ...</td>\n",
       "      <td>2020-12-29 22:16:00</td>\n",
       "    </tr>\n",
       "    <tr>\n",
       "      <th>1</th>\n",
       "      <td>Głoszone na „prawo i lewo” wartości PWC to jak...</td>\n",
       "      <td>2021-03-20 11:44:00</td>\n",
       "    </tr>\n",
       "    <tr>\n",
       "      <th>2</th>\n",
       "      <td>Mamy połowę 2021 roku natomiast pensje w FCU s...</td>\n",
       "      <td>2021-06-02 11:39:00</td>\n",
       "    </tr>\n",
       "    <tr>\n",
       "      <th>3</th>\n",
       "      <td>Pracuje w PwC 2 lata i uważam że jest to w por...</td>\n",
       "      <td>2021-06-28 23:05:00</td>\n",
       "    </tr>\n",
       "    <tr>\n",
       "      <th>4</th>\n",
       "      <td>nareszcie, dzis byla info o podwyzkach i bonus...</td>\n",
       "      <td>2020-10-23 10:11:00</td>\n",
       "    </tr>\n",
       "    <tr>\n",
       "      <th>5</th>\n",
       "      <td>Nieprofesjonalny przebieg rekrutacji:\\nSkładał...</td>\n",
       "      <td>2021-06-17 12:43:00</td>\n",
       "    </tr>\n",
       "    <tr>\n",
       "      <th>6</th>\n",
       "      <td>Nie polecam.\\nCały przebieg praktyk strasznie ...</td>\n",
       "      <td>2021-06-09 17:48:00</td>\n",
       "    </tr>\n",
       "    <tr>\n",
       "      <th>7</th>\n",
       "      <td>Pracuje w Wawie w Advisory - dużo pracy, ale p...</td>\n",
       "      <td>2020-03-31 11:47:00</td>\n",
       "    </tr>\n",
       "    <tr>\n",
       "      <th>8</th>\n",
       "      <td>Firma bardzo nieslowno. Mimo obiecanej odpowie...</td>\n",
       "      <td>2021-05-16 13:49:00</td>\n",
       "    </tr>\n",
       "    <tr>\n",
       "      <th>9</th>\n",
       "      <td>Mam pytanie o dział outsourcingu księgowego w ...</td>\n",
       "      <td>2021-05-09 11:19:00</td>\n",
       "    </tr>\n",
       "    <tr>\n",
       "      <th>10</th>\n",
       "      <td>Moja opinia dotyczy FCU w Gdańsku i ma stanowi...</td>\n",
       "      <td>2021-02-24 19:03:00</td>\n",
       "    </tr>\n",
       "  </tbody>\n",
       "</table>\n",
       "</div>"
      ],
      "text/plain": [
       "                                              Opinion            Timestamp\n",
       "0   Pracuję w tej firmie już całkiem sporo czasu, ...  2020-12-29 22:16:00\n",
       "1   Głoszone na „prawo i lewo” wartości PWC to jak...  2021-03-20 11:44:00\n",
       "2   Mamy połowę 2021 roku natomiast pensje w FCU s...  2021-06-02 11:39:00\n",
       "3   Pracuje w PwC 2 lata i uważam że jest to w por...  2021-06-28 23:05:00\n",
       "4   nareszcie, dzis byla info o podwyzkach i bonus...  2020-10-23 10:11:00\n",
       "5   Nieprofesjonalny przebieg rekrutacji:\\nSkładał...  2021-06-17 12:43:00\n",
       "6   Nie polecam.\\nCały przebieg praktyk strasznie ...  2021-06-09 17:48:00\n",
       "7   Pracuje w Wawie w Advisory - dużo pracy, ale p...  2020-03-31 11:47:00\n",
       "8   Firma bardzo nieslowno. Mimo obiecanej odpowie...  2021-05-16 13:49:00\n",
       "9   Mam pytanie o dział outsourcingu księgowego w ...  2021-05-09 11:19:00\n",
       "10  Moja opinia dotyczy FCU w Gdańsku i ma stanowi...  2021-02-24 19:03:00"
      ]
     },
     "execution_count": 86,
     "metadata": {},
     "output_type": "execute_result"
    }
   ],
   "source": [
    "pd.read_csv('opinions.csv') # everything seems to work properly"
   ]
  },
  {
   "cell_type": "code",
   "execution_count": 96,
   "metadata": {},
   "outputs": [
    {
     "data": {
      "text/plain": [
       "['',\n",
       " ',2',\n",
       " ',3',\n",
       " ',4',\n",
       " ',5',\n",
       " ',6',\n",
       " ',7',\n",
       " ',8',\n",
       " ',9',\n",
       " ',10',\n",
       " ',11',\n",
       " ',12',\n",
       " ',13',\n",
       " ',14',\n",
       " ',15',\n",
       " ',16',\n",
       " ',17',\n",
       " ',18',\n",
       " ',19',\n",
       " ',20']"
      ]
     },
     "execution_count": 96,
     "metadata": {},
     "output_type": "execute_result"
    }
   ],
   "source": [
    "# now we have to take opinions from all pages so we need links to those pages\n",
    "\n",
    "endings = [''] + [','+str(i) for i in range(2, 21)]\n",
    "endings"
   ]
  },
  {
   "cell_type": "code",
   "execution_count": 103,
   "metadata": {},
   "outputs": [
    {
     "data": {
      "text/plain": [
       "['https://www.gowork.pl/opinie_czytaj,76776',\n",
       " 'https://www.gowork.pl/opinie_czytaj,76776,2',\n",
       " 'https://www.gowork.pl/opinie_czytaj,76776,3',\n",
       " 'https://www.gowork.pl/opinie_czytaj,76776,4',\n",
       " 'https://www.gowork.pl/opinie_czytaj,76776,5',\n",
       " 'https://www.gowork.pl/opinie_czytaj,76776,6',\n",
       " 'https://www.gowork.pl/opinie_czytaj,76776,7',\n",
       " 'https://www.gowork.pl/opinie_czytaj,76776,8',\n",
       " 'https://www.gowork.pl/opinie_czytaj,76776,9',\n",
       " 'https://www.gowork.pl/opinie_czytaj,76776,10',\n",
       " 'https://www.gowork.pl/opinie_czytaj,76776,11',\n",
       " 'https://www.gowork.pl/opinie_czytaj,76776,12',\n",
       " 'https://www.gowork.pl/opinie_czytaj,76776,13',\n",
       " 'https://www.gowork.pl/opinie_czytaj,76776,14',\n",
       " 'https://www.gowork.pl/opinie_czytaj,76776,15',\n",
       " 'https://www.gowork.pl/opinie_czytaj,76776,16',\n",
       " 'https://www.gowork.pl/opinie_czytaj,76776,17',\n",
       " 'https://www.gowork.pl/opinie_czytaj,76776,18',\n",
       " 'https://www.gowork.pl/opinie_czytaj,76776,19',\n",
       " 'https://www.gowork.pl/opinie_czytaj,76776,20']"
      ]
     },
     "execution_count": 103,
     "metadata": {},
     "output_type": "execute_result"
    }
   ],
   "source": [
    "pages = [sourceURL + end for end in endings]\n",
    "pages"
   ]
  },
  {
   "cell_type": "markdown",
   "metadata": {},
   "source": [
    "## Now we can move on to gather entire data for PwC."
   ]
  },
  {
   "cell_type": "code",
   "execution_count": 143,
   "metadata": {},
   "outputs": [],
   "source": [
    "file = open('opinions_PwC.csv', mode='w', newline='', encoding='utf-8')\n",
    "writer = csv.writer(file)"
   ]
  },
  {
   "cell_type": "code",
   "execution_count": 145,
   "metadata": {},
   "outputs": [],
   "source": [
    "writer.writerow(keys)\n",
    "for page in pages:\n",
    "    response = read_url(page)\n",
    "    soup = BeautifulSoup(markup = response, features='lxml')\n",
    "    opinions = soup.find_all('div', 'js-thread thread-item clearfix')\n",
    "    for opinion in opinions:\n",
    "        contents = opinion.find('p', 'js-review-text').text\n",
    "        date = opinion.find('time', \"review__date\").get('datetime')\n",
    "        timestamp = pd.to_datetime(date, format= \"%d.%m.%Y %H:%M\")\n",
    "        writer.writerow([contents, timestamp])\n",
    "file.close()"
   ]
  },
  {
   "cell_type": "code",
   "execution_count": 146,
   "metadata": {},
   "outputs": [
    {
     "data": {
      "text/html": [
       "<div>\n",
       "<style scoped>\n",
       "    .dataframe tbody tr th:only-of-type {\n",
       "        vertical-align: middle;\n",
       "    }\n",
       "\n",
       "    .dataframe tbody tr th {\n",
       "        vertical-align: top;\n",
       "    }\n",
       "\n",
       "    .dataframe thead th {\n",
       "        text-align: right;\n",
       "    }\n",
       "</style>\n",
       "<table border=\"1\" class=\"dataframe\">\n",
       "  <thead>\n",
       "    <tr style=\"text-align: right;\">\n",
       "      <th></th>\n",
       "      <th>Opinion</th>\n",
       "      <th>Timestamp</th>\n",
       "    </tr>\n",
       "  </thead>\n",
       "  <tbody>\n",
       "    <tr>\n",
       "      <th>0</th>\n",
       "      <td>Pracuję w tej firmie już całkiem sporo czasu, ...</td>\n",
       "      <td>2020-12-29 22:16:00</td>\n",
       "    </tr>\n",
       "    <tr>\n",
       "      <th>1</th>\n",
       "      <td>Głoszone na „prawo i lewo” wartości PWC to jak...</td>\n",
       "      <td>2021-03-20 11:44:00</td>\n",
       "    </tr>\n",
       "    <tr>\n",
       "      <th>2</th>\n",
       "      <td>Mamy połowę 2021 roku natomiast pensje w FCU s...</td>\n",
       "      <td>2021-06-02 11:39:00</td>\n",
       "    </tr>\n",
       "    <tr>\n",
       "      <th>3</th>\n",
       "      <td>Pracuje w PwC 2 lata i uważam że jest to w por...</td>\n",
       "      <td>2021-06-28 23:05:00</td>\n",
       "    </tr>\n",
       "    <tr>\n",
       "      <th>4</th>\n",
       "      <td>nareszcie, dzis byla info o podwyzkach i bonus...</td>\n",
       "      <td>2020-10-23 10:11:00</td>\n",
       "    </tr>\n",
       "    <tr>\n",
       "      <th>...</th>\n",
       "      <td>...</td>\n",
       "      <td>...</td>\n",
       "    </tr>\n",
       "    <tr>\n",
       "      <th>301</th>\n",
       "      <td>Świetne miejsce do poznania naprawdę bystrych ...</td>\n",
       "      <td>2014-10-16 15:31:00</td>\n",
       "    </tr>\n",
       "    <tr>\n",
       "      <th>302</th>\n",
       "      <td>szczera prawda, jesteś częścią wielkiek maszyn...</td>\n",
       "      <td>2011-01-21 14:13:00</td>\n",
       "    </tr>\n",
       "    <tr>\n",
       "      <th>303</th>\n",
       "      <td>ogólna psychoza w otoczce szczęśliwości - korp...</td>\n",
       "      <td>2010-12-02 13:30:00</td>\n",
       "    </tr>\n",
       "    <tr>\n",
       "      <th>304</th>\n",
       "      <td>ludzie jak szczury  /  praca do utraty sił  / ...</td>\n",
       "      <td>2010-12-02 13:29:00</td>\n",
       "    </tr>\n",
       "    <tr>\n",
       "      <th>305</th>\n",
       "      <td>Typowa korporacja w negatywnym tego słowa znac...</td>\n",
       "      <td>2010-05-03 18:16:00</td>\n",
       "    </tr>\n",
       "  </tbody>\n",
       "</table>\n",
       "<p>306 rows × 2 columns</p>\n",
       "</div>"
      ],
      "text/plain": [
       "                                               Opinion            Timestamp\n",
       "0    Pracuję w tej firmie już całkiem sporo czasu, ...  2020-12-29 22:16:00\n",
       "1    Głoszone na „prawo i lewo” wartości PWC to jak...  2021-03-20 11:44:00\n",
       "2    Mamy połowę 2021 roku natomiast pensje w FCU s...  2021-06-02 11:39:00\n",
       "3    Pracuje w PwC 2 lata i uważam że jest to w por...  2021-06-28 23:05:00\n",
       "4    nareszcie, dzis byla info o podwyzkach i bonus...  2020-10-23 10:11:00\n",
       "..                                                 ...                  ...\n",
       "301  Świetne miejsce do poznania naprawdę bystrych ...  2014-10-16 15:31:00\n",
       "302  szczera prawda, jesteś częścią wielkiek maszyn...  2011-01-21 14:13:00\n",
       "303  ogólna psychoza w otoczce szczęśliwości - korp...  2010-12-02 13:30:00\n",
       "304  ludzie jak szczury  /  praca do utraty sił  / ...  2010-12-02 13:29:00\n",
       "305  Typowa korporacja w negatywnym tego słowa znac...  2010-05-03 18:16:00\n",
       "\n",
       "[306 rows x 2 columns]"
      ]
     },
     "execution_count": 146,
     "metadata": {},
     "output_type": "execute_result"
    }
   ],
   "source": [
    "pd.read_csv('opinions_PwC.csv')"
   ]
  },
  {
   "cell_type": "markdown",
   "metadata": {},
   "source": [
    "# EY GoWork opinions"
   ]
  },
  {
   "cell_type": "code",
   "execution_count": 153,
   "metadata": {},
   "outputs": [
    {
     "data": {
      "text/plain": [
       "['https://www.gowork.pl/opinie_czytaj,4506',\n",
       " 'https://www.gowork.pl/opinie_czytaj,4506,2',\n",
       " 'https://www.gowork.pl/opinie_czytaj,4506,3',\n",
       " 'https://www.gowork.pl/opinie_czytaj,4506,4',\n",
       " 'https://www.gowork.pl/opinie_czytaj,4506,5',\n",
       " 'https://www.gowork.pl/opinie_czytaj,4506,6',\n",
       " 'https://www.gowork.pl/opinie_czytaj,4506,7',\n",
       " 'https://www.gowork.pl/opinie_czytaj,4506,8',\n",
       " 'https://www.gowork.pl/opinie_czytaj,4506,9',\n",
       " 'https://www.gowork.pl/opinie_czytaj,4506,10',\n",
       " 'https://www.gowork.pl/opinie_czytaj,4506,11',\n",
       " 'https://www.gowork.pl/opinie_czytaj,4506,12',\n",
       " 'https://www.gowork.pl/opinie_czytaj,4506,13',\n",
       " 'https://www.gowork.pl/opinie_czytaj,4506,14']"
      ]
     },
     "execution_count": 153,
     "metadata": {},
     "output_type": "execute_result"
    }
   ],
   "source": [
    "ey_url = 'https://www.gowork.pl/opinie_czytaj,4506'\n",
    "endings = [''] + [','+ str(i) for i in range(2,15)]\n",
    "pages = [ey_url + end for end in endings]\n",
    "pages"
   ]
  },
  {
   "cell_type": "code",
   "execution_count": 154,
   "metadata": {},
   "outputs": [],
   "source": [
    "file_ey = open('opinions_EY.csv', mode='w', newline='', encoding = 'utf-8')\n",
    "writer_ey = csv.writer(file_ey)\n",
    "writer_ey.writerow(keys)\n",
    "for page in pages:\n",
    "    response = read_url(page)\n",
    "    soup = BeautifulSoup(markup=response, features='lxml')\n",
    "    opinions = soup.find_all('div', 'js-thread thread-item clearfix')\n",
    "    for opinion in opinions:\n",
    "        contents = opinion.find('p', 'js-review-text').text\n",
    "        date = opinion.find('time', 'review__date').get('datetime')\n",
    "        timestamp = pd.to_datetime(date, format = \"%d.%m.%Y %H:%M\")\n",
    "        writer_ey.writerow([contents, timestamp])\n",
    "file_ey.close()"
   ]
  },
  {
   "cell_type": "code",
   "execution_count": 155,
   "metadata": {},
   "outputs": [
    {
     "data": {
      "text/html": [
       "<div>\n",
       "<style scoped>\n",
       "    .dataframe tbody tr th:only-of-type {\n",
       "        vertical-align: middle;\n",
       "    }\n",
       "\n",
       "    .dataframe tbody tr th {\n",
       "        vertical-align: top;\n",
       "    }\n",
       "\n",
       "    .dataframe thead th {\n",
       "        text-align: right;\n",
       "    }\n",
       "</style>\n",
       "<table border=\"1\" class=\"dataframe\">\n",
       "  <thead>\n",
       "    <tr style=\"text-align: right;\">\n",
       "      <th></th>\n",
       "      <th>Opinion</th>\n",
       "      <th>Timestamp</th>\n",
       "    </tr>\n",
       "  </thead>\n",
       "  <tbody>\n",
       "    <tr>\n",
       "      <th>0</th>\n",
       "      <td>Nie polecam. Pracowałem w tej firmie prawie 5 ...</td>\n",
       "      <td>2019-04-21 20:08:00</td>\n",
       "    </tr>\n",
       "    <tr>\n",
       "      <th>1</th>\n",
       "      <td>Hej, \\npracuję w tej firmie od 2 lat na stanow...</td>\n",
       "      <td>2020-06-11 17:16:00</td>\n",
       "    </tr>\n",
       "    <tr>\n",
       "      <th>2</th>\n",
       "      <td>skoro Jan Krzysztof Bielecki ( były premier ) ...</td>\n",
       "      <td>2020-12-31 15:28:00</td>\n",
       "    </tr>\n",
       "    <tr>\n",
       "      <th>3</th>\n",
       "      <td>Przedstawiciel firmt podczas rozmowy starała s...</td>\n",
       "      <td>2021-07-14 14:22:00</td>\n",
       "    </tr>\n",
       "    <tr>\n",
       "      <th>4</th>\n",
       "      <td>firma wspaniała, tylko ludzie...</td>\n",
       "      <td>2021-06-09 18:35:00</td>\n",
       "    </tr>\n",
       "    <tr>\n",
       "      <th>...</th>\n",
       "      <td>...</td>\n",
       "      <td>...</td>\n",
       "    </tr>\n",
       "    <tr>\n",
       "      <th>193</th>\n",
       "      <td>Jeśli chodzi o prace w usłogach ksiegowych to ...</td>\n",
       "      <td>2013-12-06 23:45:00</td>\n",
       "    </tr>\n",
       "    <tr>\n",
       "      <th>194</th>\n",
       "      <td>potwierdzam to co zostało napisane powyżej prz...</td>\n",
       "      <td>2013-02-01 11:53:00</td>\n",
       "    </tr>\n",
       "    <tr>\n",
       "      <th>195</th>\n",
       "      <td>W tym przypadku to naiwny optymizm</td>\n",
       "      <td>2013-01-24 04:15:00</td>\n",
       "    </tr>\n",
       "    <tr>\n",
       "      <th>196</th>\n",
       "      <td>Lepiej zatrudniać byłych i obecnych agentów po...</td>\n",
       "      <td>2012-07-18 17:14:00</td>\n",
       "    </tr>\n",
       "    <tr>\n",
       "      <th>197</th>\n",
       "      <td>Zatrudniamy najlepszych ... akurat. \\n\\nNie ma...</td>\n",
       "      <td>2008-12-01 00:07:00</td>\n",
       "    </tr>\n",
       "  </tbody>\n",
       "</table>\n",
       "<p>198 rows × 2 columns</p>\n",
       "</div>"
      ],
      "text/plain": [
       "                                               Opinion            Timestamp\n",
       "0    Nie polecam. Pracowałem w tej firmie prawie 5 ...  2019-04-21 20:08:00\n",
       "1    Hej, \\npracuję w tej firmie od 2 lat na stanow...  2020-06-11 17:16:00\n",
       "2    skoro Jan Krzysztof Bielecki ( były premier ) ...  2020-12-31 15:28:00\n",
       "3    Przedstawiciel firmt podczas rozmowy starała s...  2021-07-14 14:22:00\n",
       "4                     firma wspaniała, tylko ludzie...  2021-06-09 18:35:00\n",
       "..                                                 ...                  ...\n",
       "193  Jeśli chodzi o prace w usłogach ksiegowych to ...  2013-12-06 23:45:00\n",
       "194  potwierdzam to co zostało napisane powyżej prz...  2013-02-01 11:53:00\n",
       "195                 W tym przypadku to naiwny optymizm  2013-01-24 04:15:00\n",
       "196  Lepiej zatrudniać byłych i obecnych agentów po...  2012-07-18 17:14:00\n",
       "197  Zatrudniamy najlepszych ... akurat. \\n\\nNie ma...  2008-12-01 00:07:00\n",
       "\n",
       "[198 rows x 2 columns]"
      ]
     },
     "execution_count": 155,
     "metadata": {},
     "output_type": "execute_result"
    }
   ],
   "source": [
    "pd.read_csv('opinions_EY.csv')"
   ]
  },
  {
   "cell_type": "markdown",
   "metadata": {},
   "source": [
    "# KPMG GoWork opinions"
   ]
  },
  {
   "cell_type": "code",
   "execution_count": 168,
   "metadata": {},
   "outputs": [
    {
     "data": {
      "text/plain": [
       "['https://www.gowork.pl/opinie_czytaj,12557',\n",
       " 'https://www.gowork.pl/opinie_czytaj,12557,2',\n",
       " 'https://www.gowork.pl/opinie_czytaj,12557,3',\n",
       " 'https://www.gowork.pl/opinie_czytaj,12557,4',\n",
       " 'https://www.gowork.pl/opinie_czytaj,12557,5',\n",
       " 'https://www.gowork.pl/opinie_czytaj,12557,6',\n",
       " 'https://www.gowork.pl/opinie_czytaj,12557,7']"
      ]
     },
     "execution_count": 168,
     "metadata": {},
     "output_type": "execute_result"
    }
   ],
   "source": [
    "kpmg_url = 'https://www.gowork.pl/opinie_czytaj,12557'\n",
    "endings = [''] + [',' + str(i) for i in range(2, 8)]\n",
    "kpmg_pages = [kpmg_url + end for end in endings]\n",
    "kpmg_pages"
   ]
  },
  {
   "cell_type": "code",
   "execution_count": 165,
   "metadata": {},
   "outputs": [],
   "source": [
    "file_kpmg = open('opinions_KPMG.csv', mode='w', newline = '', encoding = 'utf-8')\n",
    "writer_kpmg = csv.writer(file_kpmg)\n",
    "writer_kpmg.writerow(keys)\n",
    "for page in kpmg_pages:\n",
    "    response = read_url(page)\n",
    "    soup = BeautifulSoup(markup= response, features= 'lxml')\n",
    "    opinions = soup.find_all('div', 'js-thread thread-item clearfix')\n",
    "    for opinion in opinions:\n",
    "        contents = opinion.find('p', 'js-review-text').text\n",
    "        date = opinion.find('time', 'review__date').get('datetime')\n",
    "        timestamp = pd.to_datetime(date, format = \"%d.%m.%Y %H:%M\")\n",
    "        writer_kpmg.writerow([contents, timestamp])\n",
    "file_kpmg.close()"
   ]
  },
  {
   "cell_type": "code",
   "execution_count": 167,
   "metadata": {},
   "outputs": [
    {
     "data": {
      "text/html": [
       "<div>\n",
       "<style scoped>\n",
       "    .dataframe tbody tr th:only-of-type {\n",
       "        vertical-align: middle;\n",
       "    }\n",
       "\n",
       "    .dataframe tbody tr th {\n",
       "        vertical-align: top;\n",
       "    }\n",
       "\n",
       "    .dataframe thead th {\n",
       "        text-align: right;\n",
       "    }\n",
       "</style>\n",
       "<table border=\"1\" class=\"dataframe\">\n",
       "  <thead>\n",
       "    <tr style=\"text-align: right;\">\n",
       "      <th></th>\n",
       "      <th>Opinion</th>\n",
       "      <th>Timestamp</th>\n",
       "    </tr>\n",
       "  </thead>\n",
       "  <tbody>\n",
       "    <tr>\n",
       "      <th>0</th>\n",
       "      <td>To gratuluję Wam pracy w kpmg, ja po studiach ...</td>\n",
       "      <td>2016-03-17 15:53:00</td>\n",
       "    </tr>\n",
       "    <tr>\n",
       "      <th>1</th>\n",
       "      <td>masakryczna atmosfera, donoszenie, plotki, kom...</td>\n",
       "      <td>2019-11-24 14:37:00</td>\n",
       "    </tr>\n",
       "    <tr>\n",
       "      <th>2</th>\n",
       "      <td>Bardzo fatalne podejście od HR brak kontaktu t...</td>\n",
       "      <td>2021-06-11 16:41:00</td>\n",
       "    </tr>\n",
       "    <tr>\n",
       "      <th>3</th>\n",
       "      <td>Jestem zażenowana przebiegiem rekrutacji w tej...</td>\n",
       "      <td>2021-05-25 13:06:00</td>\n",
       "    </tr>\n",
       "    <tr>\n",
       "      <th>4</th>\n",
       "      <td>KPMG podobnie jak pozostałe pseudofirmy z Big4...</td>\n",
       "      <td>2021-04-25 08:53:00</td>\n",
       "    </tr>\n",
       "    <tr>\n",
       "      <th>...</th>\n",
       "      <td>...</td>\n",
       "      <td>...</td>\n",
       "    </tr>\n",
       "    <tr>\n",
       "      <th>96</th>\n",
       "      <td>Bardzo zła atmosfera pracy. Właściwie zaczynaj...</td>\n",
       "      <td>2009-05-16 12:51:00</td>\n",
       "    </tr>\n",
       "    <tr>\n",
       "      <th>97</th>\n",
       "      <td>Rzeczywiście można się wiele nauczyć, ale kosz...</td>\n",
       "      <td>2009-03-09 13:07:00</td>\n",
       "    </tr>\n",
       "    <tr>\n",
       "      <th>98</th>\n",
       "      <td>można zdobyć bogate doświadczenie, niestety ni...</td>\n",
       "      <td>2009-03-09 13:04:00</td>\n",
       "    </tr>\n",
       "    <tr>\n",
       "      <th>99</th>\n",
       "      <td>typowa korporacja, pracownik jest tylko trybik...</td>\n",
       "      <td>2009-03-09 13:02:00</td>\n",
       "    </tr>\n",
       "    <tr>\n",
       "      <th>100</th>\n",
       "      <td>Ogromnie ciężka praca. Możesz się nauczyć bard...</td>\n",
       "      <td>2009-02-09 11:59:00</td>\n",
       "    </tr>\n",
       "  </tbody>\n",
       "</table>\n",
       "<p>101 rows × 2 columns</p>\n",
       "</div>"
      ],
      "text/plain": [
       "                                               Opinion            Timestamp\n",
       "0    To gratuluję Wam pracy w kpmg, ja po studiach ...  2016-03-17 15:53:00\n",
       "1    masakryczna atmosfera, donoszenie, plotki, kom...  2019-11-24 14:37:00\n",
       "2    Bardzo fatalne podejście od HR brak kontaktu t...  2021-06-11 16:41:00\n",
       "3    Jestem zażenowana przebiegiem rekrutacji w tej...  2021-05-25 13:06:00\n",
       "4    KPMG podobnie jak pozostałe pseudofirmy z Big4...  2021-04-25 08:53:00\n",
       "..                                                 ...                  ...\n",
       "96   Bardzo zła atmosfera pracy. Właściwie zaczynaj...  2009-05-16 12:51:00\n",
       "97   Rzeczywiście można się wiele nauczyć, ale kosz...  2009-03-09 13:07:00\n",
       "98   można zdobyć bogate doświadczenie, niestety ni...  2009-03-09 13:04:00\n",
       "99   typowa korporacja, pracownik jest tylko trybik...  2009-03-09 13:02:00\n",
       "100  Ogromnie ciężka praca. Możesz się nauczyć bard...  2009-02-09 11:59:00\n",
       "\n",
       "[101 rows x 2 columns]"
      ]
     },
     "execution_count": 167,
     "metadata": {},
     "output_type": "execute_result"
    }
   ],
   "source": [
    "pd.read_csv('opinions_KPMG.csv')"
   ]
  },
  {
   "cell_type": "markdown",
   "metadata": {},
   "source": [
    "# Deloitte GoWork opinions"
   ]
  },
  {
   "cell_type": "code",
   "execution_count": 169,
   "metadata": {},
   "outputs": [
    {
     "data": {
      "text/plain": [
       "['https://www.gowork.pl/opinie_czytaj,29417',\n",
       " 'https://www.gowork.pl/opinie_czytaj,29417,2',\n",
       " 'https://www.gowork.pl/opinie_czytaj,29417,3',\n",
       " 'https://www.gowork.pl/opinie_czytaj,29417,4',\n",
       " 'https://www.gowork.pl/opinie_czytaj,29417,5',\n",
       " 'https://www.gowork.pl/opinie_czytaj,29417,6',\n",
       " 'https://www.gowork.pl/opinie_czytaj,29417,7',\n",
       " 'https://www.gowork.pl/opinie_czytaj,29417,8']"
      ]
     },
     "execution_count": 169,
     "metadata": {},
     "output_type": "execute_result"
    }
   ],
   "source": [
    "deloitte_url = 'https://www.gowork.pl/opinie_czytaj,29417'\n",
    "endings = [''] + [',' + str(i) for i in range(2, 9)]\n",
    "deloitte_pages = [deloitte_url + end for end in endings]\n",
    "deloitte_pages"
   ]
  },
  {
   "cell_type": "code",
   "execution_count": 170,
   "metadata": {},
   "outputs": [],
   "source": [
    "file_deloitte = open('opinions_Deloitte.csv', mode = 'w', newline = '', encoding = 'utf-8')\n",
    "writer_deloitte = csv.writer(file_deloitte)\n",
    "writer_deloitte.writerow(keys)\n",
    "for page in deloitte_pages:\n",
    "    response = read_url(page)\n",
    "    soup = BeautifulSoup(markup= response, features= 'lxml')\n",
    "    opinions = soup.find_all('div', 'js-thread thread-item clearfix')\n",
    "    for opinion in opinions:\n",
    "        contents = opinion.find('p', 'js-review-text').text\n",
    "        date = opinion.find('time', 'review__date').get('datetime')\n",
    "        timestamp = pd.to_datetime(date, format = \"%d.%m.%Y %H:%M\")\n",
    "        writer_deloitte.writerow([contents, timestamp])\n",
    "file_deloitte.close()"
   ]
  },
  {
   "cell_type": "code",
   "execution_count": 171,
   "metadata": {},
   "outputs": [
    {
     "data": {
      "text/html": [
       "<div>\n",
       "<style scoped>\n",
       "    .dataframe tbody tr th:only-of-type {\n",
       "        vertical-align: middle;\n",
       "    }\n",
       "\n",
       "    .dataframe tbody tr th {\n",
       "        vertical-align: top;\n",
       "    }\n",
       "\n",
       "    .dataframe thead th {\n",
       "        text-align: right;\n",
       "    }\n",
       "</style>\n",
       "<table border=\"1\" class=\"dataframe\">\n",
       "  <thead>\n",
       "    <tr style=\"text-align: right;\">\n",
       "      <th></th>\n",
       "      <th>Opinion</th>\n",
       "      <th>Timestamp</th>\n",
       "    </tr>\n",
       "  </thead>\n",
       "  <tbody>\n",
       "    <tr>\n",
       "      <th>0</th>\n",
       "      <td>Nadmuchany profesjonalizm, który nijak ma się ...</td>\n",
       "      <td>2020-07-14 15:21:00</td>\n",
       "    </tr>\n",
       "    <tr>\n",
       "      <th>1</th>\n",
       "      <td>Troszeczkę śmieszą mnie frustraci poniżej, któ...</td>\n",
       "      <td>2017-10-25 21:59:00</td>\n",
       "    </tr>\n",
       "    <tr>\n",
       "      <th>2</th>\n",
       "      <td>Ja przepraszam ale czytam sobie tak tu te opin...</td>\n",
       "      <td>2020-05-07 06:22:00</td>\n",
       "    </tr>\n",
       "    <tr>\n",
       "      <th>3</th>\n",
       "      <td>Omijać szerokim łukiem. Pensje są takie, że mo...</td>\n",
       "      <td>2021-01-18 09:37:00</td>\n",
       "    </tr>\n",
       "    <tr>\n",
       "      <th>4</th>\n",
       "      <td>Uczestniczyłem w ponad godzinnej rozmowie w sp...</td>\n",
       "      <td>2021-05-26 08:58:00</td>\n",
       "    </tr>\n",
       "    <tr>\n",
       "      <th>...</th>\n",
       "      <td>...</td>\n",
       "      <td>...</td>\n",
       "    </tr>\n",
       "    <tr>\n",
       "      <th>96</th>\n",
       "      <td>Czy w firmie przyjmują na aplikację na biegłeg...</td>\n",
       "      <td>2016-03-11 08:53:00</td>\n",
       "    </tr>\n",
       "    <tr>\n",
       "      <th>97</th>\n",
       "      <td>a czy na staże, programy, praktyki przyjmują s...</td>\n",
       "      <td>2016-02-26 18:51:00</td>\n",
       "    </tr>\n",
       "    <tr>\n",
       "      <th>98</th>\n",
       "      <td>Jak placa? Również interesuję mnie sprawa z ur...</td>\n",
       "      <td>2015-10-31 00:27:00</td>\n",
       "    </tr>\n",
       "    <tr>\n",
       "      <th>99</th>\n",
       "      <td>Jest duży nabór ale to nie znaczy że dużo ludz...</td>\n",
       "      <td>2015-10-15 22:18:00</td>\n",
       "    </tr>\n",
       "    <tr>\n",
       "      <th>100</th>\n",
       "      <td>dobrze tam płacą?</td>\n",
       "      <td>2015-03-11 21:28:00</td>\n",
       "    </tr>\n",
       "  </tbody>\n",
       "</table>\n",
       "<p>101 rows × 2 columns</p>\n",
       "</div>"
      ],
      "text/plain": [
       "                                               Opinion            Timestamp\n",
       "0    Nadmuchany profesjonalizm, który nijak ma się ...  2020-07-14 15:21:00\n",
       "1    Troszeczkę śmieszą mnie frustraci poniżej, któ...  2017-10-25 21:59:00\n",
       "2    Ja przepraszam ale czytam sobie tak tu te opin...  2020-05-07 06:22:00\n",
       "3    Omijać szerokim łukiem. Pensje są takie, że mo...  2021-01-18 09:37:00\n",
       "4    Uczestniczyłem w ponad godzinnej rozmowie w sp...  2021-05-26 08:58:00\n",
       "..                                                 ...                  ...\n",
       "96   Czy w firmie przyjmują na aplikację na biegłeg...  2016-03-11 08:53:00\n",
       "97   a czy na staże, programy, praktyki przyjmują s...  2016-02-26 18:51:00\n",
       "98   Jak placa? Również interesuję mnie sprawa z ur...  2015-10-31 00:27:00\n",
       "99   Jest duży nabór ale to nie znaczy że dużo ludz...  2015-10-15 22:18:00\n",
       "100                                  dobrze tam płacą?  2015-03-11 21:28:00\n",
       "\n",
       "[101 rows x 2 columns]"
      ]
     },
     "execution_count": 171,
     "metadata": {},
     "output_type": "execute_result"
    }
   ],
   "source": [
    "pd.read_csv('opinions_Deloitte.csv')"
   ]
  },
  {
   "cell_type": "markdown",
   "metadata": {},
   "source": [
    "Note that sometimes people ask questions in those opinions although they have special type of posts for that. In order to filter out those questions, we could get rid of posts with question mark(s) which will be done in second notebook."
   ]
  }
 ],
 "metadata": {
  "kernelspec": {
   "display_name": "Python 3",
   "language": "python",
   "name": "python3"
  },
  "language_info": {
   "codemirror_mode": {
    "name": "ipython",
    "version": 3
   },
   "file_extension": ".py",
   "mimetype": "text/x-python",
   "name": "python",
   "nbconvert_exporter": "python",
   "pygments_lexer": "ipython3",
   "version": "3.7.6"
  }
 },
 "nbformat": 4,
 "nbformat_minor": 4
}
